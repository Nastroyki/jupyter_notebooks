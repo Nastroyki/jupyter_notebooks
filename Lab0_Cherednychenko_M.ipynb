{
 "cells": [
  {
   "cell_type": "markdown",
   "id": "9a2fe4ce-7d86-4f6b-a040-d782577e9dfb",
   "metadata": {
    "editable": true,
    "slideshow": {
     "slide_type": ""
    },
    "tags": []
   },
   "source": [
    "# Лабораторна робота 0\n",
    "\n",
    "## Основи роботи в середовищі Jupyter Notebook\n",
    "\n",
    "### Мета роботи: ознайомитись з особливістю використання мови Python в середовищі Jupyter Notebook та отримати навички роботи з блокнотом.\n",
    "\n",
    "#### _Виконав студент групи КН-221а Чередниченко Максим_"
   ]
  },
  {
   "cell_type": "code",
   "execution_count": 1,
   "id": "ee86c3fc-8e3d-4910-a49b-44595fcca1fc",
   "metadata": {},
   "outputs": [
    {
     "name": "stdout",
     "output_type": "stream",
     "text": [
      "8\n"
     ]
    }
   ],
   "source": [
    "N = ord(\"M\") % 10 + 1\n",
    "print(N)"
   ]
  },
  {
   "cell_type": "markdown",
   "id": "bfc9055c-df4b-417d-bc20-3001729ccaad",
   "metadata": {},
   "source": [
    "# Грузія\n",
    "<img src=\"https://upload.wikimedia.org/wikipedia/commons/thumb/6/6f/Keselo%2C_Tusheti.jpg/1280px-Keselo%2C_Tusheti.jpg\" alt=\"Tusheti\" width=\"500\">\n",
    "\n",
    "## Площа\n",
    "__69 700 км².__\n",
    "***\n",
    "\n",
    "## Населення\n",
    "__3 729 500__ (за 2015 рік)\n",
    "***\n",
    "\n",
    "## Державний устрій\n",
    "[Унітарна парламентська республіка](https://uk.wikipedia.org/wiki/%D0%9F%D0%B0%D1%80%D0%BB%D0%B0%D0%BC%D0%B5%D0%BD%D1%82%D1%81%D1%8C%D0%BA%D0%B0_%D1%80%D0%B5%D1%81%D0%BF%D1%83%D0%B1%D0%BB%D1%96%D0%BA%D0%B0)\n",
    "***\n",
    "\n",
    "## Природа\n",
    "Територія Грузії характеризується надзвичайною різноманітністю природи. Приналежність Грузії до рухомого альпійського поясу земної кори зумовила на невеликій площі різку зміну інтенсивних неотектонічних височин та низин. Цими рухами створено контрастний рельєф країни і зрештою її різноманітні ландшафти з безліччю типів клімату, гідрології, ґрунтового покриву, рослинності і тваринного світу.\n",
    "***\n",
    "\n",
    "## Краї та Автономні республіки\n",
    "У Грузії в результаті тривалої і поступової реформи, яка розпочалася ще на початку 1990-х років районне ділення країни замінене краєвим. Окрім двох автономних республік Абхазії і Аджарії, утворено <font color=red> 9 країв</font>:\n",
    "\n",
    "1. Самегрело — Верхня Сванетія (центр — Зугдідi);\n",
    "2. Рача-Лечхумі — Нижня Сванетія (Амбролаурі);\n",
    "3. Гурія (Озурґеті);\n",
    "4. Імереті (Кутаїсі);\n",
    "5. Самцхе-Джавахеті (Ахалціхе);\n",
    "6. Шида-Картлі[17] (Горі);\n",
    "7. Квемо Картлі (Руставі);\n",
    "8. Мцхета-Мтіанеті (Мцхета);\n",
    "9. Кахеті (Телаві).\n",
    "\n",
    "## Прапор\n",
    "_Прапор Грузії:_\n",
    "\n",
    "<img src=\"https://upload.wikimedia.org/wikipedia/commons/0/0f/Flag_of_Georgia.svg\" alt=\"Tusheti\" width=\"500\">"
   ]
  },
  {
   "cell_type": "code",
   "execution_count": 2,
   "id": "257793fd-6646-401f-afaf-924374e0e730",
   "metadata": {},
   "outputs": [],
   "source": [
    "#Реалізувати гном’яче сортування для введеного списку елементів від найбільшого до найменшого\n",
    "def gnome_sort(arr):\n",
    "    index = 1\n",
    "    i = 0\n",
    "    n = len(arr)\n",
    "    while i < n - 1:\n",
    "        if arr[i] >= arr[i+1]:\n",
    "            i, index = index, index + 1\n",
    "        else:\n",
    "            arr[i], arr[i+1] = arr[i+1], arr[i]\n",
    "            i = i - 1\n",
    "            if i < 0:\n",
    "                i, index = index, index + 1\n",
    "    return arr\n",
    "\n",
    "def task_8():\n",
    "    str = input()\n",
    "    try:\n",
    "        strarr = str.strip().split(\" \")\n",
    "        if strarr[0] == \"\":\n",
    "            print(\"Вхідні дані відсутні\")\n",
    "        else:\n",
    "            arr = list(map(int, strarr))\n",
    "            print(gnome_sort(arr))\n",
    "    except:\n",
    "        print(\"Вхідні дані містять не числове значення\")\n",
    "    \n",
    "# 5 3 78 3 23 7 34 [78, 34, 23, 7, 5, 3, 3]"
   ]
  },
  {
   "cell_type": "code",
   "execution_count": 3,
   "id": "708ba965-7696-4adf-8d2c-652a12fb98ac",
   "metadata": {
    "editable": true,
    "slideshow": {
     "slide_type": ""
    },
    "tags": []
   },
   "outputs": [
    {
     "name": "stdin",
     "output_type": "stream",
     "text": [
      " 5 3 78 3 23 7 34 \n"
     ]
    },
    {
     "name": "stdout",
     "output_type": "stream",
     "text": [
      "[78, 34, 23, 7, 5, 3, 3]\n"
     ]
    }
   ],
   "source": [
    "task_8()"
   ]
  }
 ],
 "metadata": {
  "kernelspec": {
   "display_name": "Python 3 (ipykernel)",
   "language": "python",
   "name": "python3"
  },
  "language_info": {
   "codemirror_mode": {
    "name": "ipython",
    "version": 3
   },
   "file_extension": ".py",
   "mimetype": "text/x-python",
   "name": "python",
   "nbconvert_exporter": "python",
   "pygments_lexer": "ipython3",
   "version": "3.12.0"
  }
 },
 "nbformat": 4,
 "nbformat_minor": 5
}
